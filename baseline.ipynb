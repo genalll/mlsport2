{
 "cells": [
  {
   "cell_type": "markdown",
   "metadata": {
    "id": "FH0ZYdNyQzug"
   },
   "source": [
    "## Загрузим нужные библиотеки"
   ]
  },
  {
   "cell_type": "code",
   "execution_count": 1,
   "metadata": {
    "id": "BwNGqMidQiRi"
   },
   "outputs": [],
   "source": [
    "import pandas as pd\n",
    "import seaborn as sns\n",
    "import matplotlib.pyplot as plt\n",
    "from sklearn.model_selection import train_test_split\n",
    "from sklearn.ensemble import RandomForestClassifier\n",
    "from sklearn.metrics import classification_report\n",
    "%matplotlib inline"
   ]
  },
  {
   "cell_type": "markdown",
   "metadata": {
    "id": "BjA5wUSDpujm"
   },
   "source": [
    "В начале остановимся на наиболее перспективных навыках"
   ]
  },
  {
   "cell_type": "code",
   "execution_count": 2,
   "metadata": {
    "colab": {
     "base_uri": "https://localhost:8080/"
    },
    "id": "3TZUcuZ33rM5",
    "outputId": "92f02201-8f54-42cc-a2cc-c664ee69c0b0"
   },
   "outputs": [
    {
     "name": "stderr",
     "output_type": "stream",
     "text": [
      "/tmp/ipykernel_8415/2175504698.py:5: DtypeWarning: Columns (4,5) have mixed types. Specify dtype option on import or set low_memory=False.\n",
      "  df_connection_time = pd.read_csv(\"ConnectionTime.csv\")\n"
     ]
    }
   ],
   "source": [
    "df_train = pd.read_csv(\"train.csv\")\n",
    "df_test = pd.read_csv(\"test.csv\")\n",
    "\n",
    "df_calls = pd.read_csv(\"Calls.csv\")\n",
    "df_connection_time = pd.read_csv(\"ConnectionTime.csv\")\n",
    "df_ed = pd.read_csv(\"Education.csv\")"
   ]
  },
  {
   "cell_type": "markdown",
   "metadata": {
    "id": "GywlangPRAEm"
   },
   "source": [
    "## Рассмотрим датасет по ближе"
   ]
  },
  {
   "cell_type": "code",
   "execution_count": 3,
   "metadata": {
    "colab": {
     "base_uri": "https://localhost:8080/",
     "height": 143
    },
    "id": "gvcl_K3FQ-os",
    "outputId": "d3bd5bb7-9e48-4fbc-bdf7-cf82401a203d"
   },
   "outputs": [
    {
     "data": {
      "text/html": [
       "<div>\n",
       "<style scoped>\n",
       "    .dataframe tbody tr th:only-of-type {\n",
       "        vertical-align: middle;\n",
       "    }\n",
       "\n",
       "    .dataframe tbody tr th {\n",
       "        vertical-align: top;\n",
       "    }\n",
       "\n",
       "    .dataframe thead th {\n",
       "        text-align: right;\n",
       "    }\n",
       "</style>\n",
       "<table border=\"1\" class=\"dataframe\">\n",
       "  <thead>\n",
       "    <tr style=\"text-align: right;\">\n",
       "      <th></th>\n",
       "      <th>Date</th>\n",
       "      <th>CallTime</th>\n",
       "      <th>NumberOfCalls</th>\n",
       "      <th>Вид учета времени</th>\n",
       "      <th>InOut</th>\n",
       "      <th>id</th>\n",
       "    </tr>\n",
       "  </thead>\n",
       "  <tbody>\n",
       "    <tr>\n",
       "      <th>0</th>\n",
       "      <td>2021-08-16 00:00:00,000</td>\n",
       "      <td>0,00027777777777777778</td>\n",
       "      <td>1</td>\n",
       "      <td>Будни</td>\n",
       "      <td>ToUser</td>\n",
       "      <td>ОРГ1-01945</td>\n",
       "    </tr>\n",
       "    <tr>\n",
       "      <th>1</th>\n",
       "      <td>2021-09-21 00:00:00,000</td>\n",
       "      <td>0,00027777777777777778</td>\n",
       "      <td>1</td>\n",
       "      <td>Будни</td>\n",
       "      <td>ToUser</td>\n",
       "      <td>ОРГ1-01945</td>\n",
       "    </tr>\n",
       "    <tr>\n",
       "      <th>2</th>\n",
       "      <td>2021-01-11 00:00:00,000</td>\n",
       "      <td>0,00027777777777777778</td>\n",
       "      <td>1</td>\n",
       "      <td>Будни</td>\n",
       "      <td>ToUser</td>\n",
       "      <td>ОРГ1-01945</td>\n",
       "    </tr>\n",
       "  </tbody>\n",
       "</table>\n",
       "</div>"
      ],
      "text/plain": [
       "                      Date                CallTime  NumberOfCalls  \\\n",
       "0  2021-08-16 00:00:00,000  0,00027777777777777778              1   \n",
       "1  2021-09-21 00:00:00,000  0,00027777777777777778              1   \n",
       "2  2021-01-11 00:00:00,000  0,00027777777777777778              1   \n",
       "\n",
       "  Вид учета времени   InOut          id  \n",
       "0             Будни  ToUser  ОРГ1-01945  \n",
       "1             Будни  ToUser  ОРГ1-01945  \n",
       "2             Будни  ToUser  ОРГ1-01945  "
      ]
     },
     "execution_count": 3,
     "metadata": {},
     "output_type": "execute_result"
    }
   ],
   "source": [
    "df_calls.head(3)"
   ]
  },
  {
   "cell_type": "code",
   "execution_count": 4,
   "metadata": {
    "colab": {
     "base_uri": "https://localhost:8080/",
     "height": 187
    },
    "id": "zb9qIPOq4I-0",
    "outputId": "dc408614-268a-4981-f457-a62f91467bf3"
   },
   "outputs": [
    {
     "data": {
      "text/html": [
       "<div>\n",
       "<style scoped>\n",
       "    .dataframe tbody tr th:only-of-type {\n",
       "        vertical-align: middle;\n",
       "    }\n",
       "\n",
       "    .dataframe tbody tr th {\n",
       "        vertical-align: top;\n",
       "    }\n",
       "\n",
       "    .dataframe thead th {\n",
       "        text-align: right;\n",
       "    }\n",
       "</style>\n",
       "<table border=\"1\" class=\"dataframe\">\n",
       "  <thead>\n",
       "    <tr style=\"text-align: right;\">\n",
       "      <th></th>\n",
       "      <th>dateNum</th>\n",
       "      <th>maxLogOff</th>\n",
       "      <th>Нормативное время начала раб.дня</th>\n",
       "      <th>Фактич. время начала раб.дня</th>\n",
       "      <th>Время опоздания</th>\n",
       "      <th>Признак опоздания</th>\n",
       "      <th>Вых/Будни</th>\n",
       "      <th>id</th>\n",
       "    </tr>\n",
       "  </thead>\n",
       "  <tbody>\n",
       "    <tr>\n",
       "      <th>0</th>\n",
       "      <td>2021-12-15 00:00:00,000</td>\n",
       "      <td>2021-12-15 17:30:27,246</td>\n",
       "      <td>1899-12-30 08:30:00,000</td>\n",
       "      <td>1899-12-30 08:24:18,606</td>\n",
       "      <td>NaN</td>\n",
       "      <td>NaN</td>\n",
       "      <td>Будни</td>\n",
       "      <td>ОРГ1-02782</td>\n",
       "    </tr>\n",
       "    <tr>\n",
       "      <th>1</th>\n",
       "      <td>2021-12-15 00:00:00,000</td>\n",
       "      <td>2021-12-15 16:30:13,330</td>\n",
       "      <td>1899-12-30 08:30:00,000</td>\n",
       "      <td>1899-12-30 01:05:20,513</td>\n",
       "      <td>NaN</td>\n",
       "      <td>NaN</td>\n",
       "      <td>Будни</td>\n",
       "      <td>ОРГ1-01407</td>\n",
       "    </tr>\n",
       "    <tr>\n",
       "      <th>2</th>\n",
       "      <td>2021-12-15 00:00:00,000</td>\n",
       "      <td>2021-12-15 15:27:37,246</td>\n",
       "      <td>1899-12-30 08:30:00,000</td>\n",
       "      <td>1899-12-30 05:47:33,156</td>\n",
       "      <td>NaN</td>\n",
       "      <td>NaN</td>\n",
       "      <td>Будни</td>\n",
       "      <td>ОРГ1-01909</td>\n",
       "    </tr>\n",
       "  </tbody>\n",
       "</table>\n",
       "</div>"
      ],
      "text/plain": [
       "                   dateNum                maxLogOff  \\\n",
       "0  2021-12-15 00:00:00,000  2021-12-15 17:30:27,246   \n",
       "1  2021-12-15 00:00:00,000  2021-12-15 16:30:13,330   \n",
       "2  2021-12-15 00:00:00,000  2021-12-15 15:27:37,246   \n",
       "\n",
       "  Нормативное время начала раб.дня Фактич. время начала раб.дня  \\\n",
       "0          1899-12-30 08:30:00,000      1899-12-30 08:24:18,606   \n",
       "1          1899-12-30 08:30:00,000      1899-12-30 01:05:20,513   \n",
       "2          1899-12-30 08:30:00,000      1899-12-30 05:47:33,156   \n",
       "\n",
       "  Время опоздания Признак опоздания Вых/Будни          id  \n",
       "0             NaN               NaN     Будни  ОРГ1-02782  \n",
       "1             NaN               NaN     Будни  ОРГ1-01407  \n",
       "2             NaN               NaN     Будни  ОРГ1-01909  "
      ]
     },
     "execution_count": 4,
     "metadata": {},
     "output_type": "execute_result"
    }
   ],
   "source": [
    "df_connection_time.head(3)"
   ]
  },
  {
   "cell_type": "code",
   "execution_count": 5,
   "metadata": {
    "colab": {
     "base_uri": "https://localhost:8080/",
     "height": 143
    },
    "id": "ih0T_woR4bhP",
    "outputId": "25c7ff30-99ac-4d29-9ab1-84228a9f71d5"
   },
   "outputs": [
    {
     "data": {
      "text/html": [
       "<div>\n",
       "<style scoped>\n",
       "    .dataframe tbody tr th:only-of-type {\n",
       "        vertical-align: middle;\n",
       "    }\n",
       "\n",
       "    .dataframe tbody tr th {\n",
       "        vertical-align: top;\n",
       "    }\n",
       "\n",
       "    .dataframe thead th {\n",
       "        text-align: right;\n",
       "    }\n",
       "</style>\n",
       "<table border=\"1\" class=\"dataframe\">\n",
       "  <thead>\n",
       "    <tr style=\"text-align: right;\">\n",
       "      <th></th>\n",
       "      <th>Табельный номер руководителя</th>\n",
       "      <th>id</th>\n",
       "      <th>Вид образования</th>\n",
       "      <th>Специальность</th>\n",
       "    </tr>\n",
       "  </thead>\n",
       "  <tbody>\n",
       "    <tr>\n",
       "      <th>0</th>\n",
       "      <td>NaN</td>\n",
       "      <td>ОРГ1-00131</td>\n",
       "      <td>Высшее образование - бакалавриат</td>\n",
       "      <td>Юриспруденция</td>\n",
       "    </tr>\n",
       "    <tr>\n",
       "      <th>1</th>\n",
       "      <td>NaN</td>\n",
       "      <td>ОРГ1-03220</td>\n",
       "      <td>Среднее профессиональное образование</td>\n",
       "      <td>Финансы</td>\n",
       "    </tr>\n",
       "    <tr>\n",
       "      <th>2</th>\n",
       "      <td>NaN</td>\n",
       "      <td>ОРГ1-03008</td>\n",
       "      <td>Высшее образование</td>\n",
       "      <td>Юриспруденция</td>\n",
       "    </tr>\n",
       "  </tbody>\n",
       "</table>\n",
       "</div>"
      ],
      "text/plain": [
       "  Табельный номер руководителя          id  \\\n",
       "0                          NaN  ОРГ1-00131   \n",
       "1                          NaN  ОРГ1-03220   \n",
       "2                          NaN  ОРГ1-03008   \n",
       "\n",
       "                        Вид образования  Специальность  \n",
       "0      Высшее образование - бакалавриат  Юриспруденция  \n",
       "1  Среднее профессиональное образование        Финансы  \n",
       "2                    Высшее образование  Юриспруденция  "
      ]
     },
     "execution_count": 5,
     "metadata": {},
     "output_type": "execute_result"
    }
   ],
   "source": [
    "df_ed.head(3)"
   ]
  },
  {
   "cell_type": "code",
   "execution_count": 6,
   "metadata": {
    "colab": {
     "base_uri": "https://localhost:8080/",
     "height": 143
    },
    "id": "jE8r6sYMUB6w",
    "outputId": "6b7928e1-46ea-4eda-8206-9cc805838468"
   },
   "outputs": [
    {
     "data": {
      "text/html": [
       "<div>\n",
       "<style scoped>\n",
       "    .dataframe tbody tr th:only-of-type {\n",
       "        vertical-align: middle;\n",
       "    }\n",
       "\n",
       "    .dataframe tbody tr th {\n",
       "        vertical-align: top;\n",
       "    }\n",
       "\n",
       "    .dataframe thead th {\n",
       "        text-align: right;\n",
       "    }\n",
       "</style>\n",
       "<table border=\"1\" class=\"dataframe\">\n",
       "  <thead>\n",
       "    <tr style=\"text-align: right;\">\n",
       "      <th></th>\n",
       "      <th>id</th>\n",
       "      <th>type</th>\n",
       "    </tr>\n",
       "  </thead>\n",
       "  <tbody>\n",
       "    <tr>\n",
       "      <th>0</th>\n",
       "      <td>ОРГ1-02050</td>\n",
       "      <td>2</td>\n",
       "    </tr>\n",
       "    <tr>\n",
       "      <th>1</th>\n",
       "      <td>ОРГ1-02783</td>\n",
       "      <td>2</td>\n",
       "    </tr>\n",
       "    <tr>\n",
       "      <th>2</th>\n",
       "      <td>ОРГ2-06173</td>\n",
       "      <td>0</td>\n",
       "    </tr>\n",
       "  </tbody>\n",
       "</table>\n",
       "</div>"
      ],
      "text/plain": [
       "           id  type\n",
       "0  ОРГ1-02050     2\n",
       "1  ОРГ1-02783     2\n",
       "2  ОРГ2-06173     0"
      ]
     },
     "execution_count": 6,
     "metadata": {},
     "output_type": "execute_result"
    }
   ],
   "source": [
    "df_train.head(3)"
   ]
  },
  {
   "cell_type": "code",
   "execution_count": 7,
   "metadata": {
    "colab": {
     "base_uri": "https://localhost:8080/",
     "height": 143
    },
    "id": "x3A7-Jdcp-LQ",
    "outputId": "d51b9f47-dd1f-444a-e965-6bb550cc6914"
   },
   "outputs": [
    {
     "data": {
      "text/html": [
       "<div>\n",
       "<style scoped>\n",
       "    .dataframe tbody tr th:only-of-type {\n",
       "        vertical-align: middle;\n",
       "    }\n",
       "\n",
       "    .dataframe tbody tr th {\n",
       "        vertical-align: top;\n",
       "    }\n",
       "\n",
       "    .dataframe thead th {\n",
       "        text-align: right;\n",
       "    }\n",
       "</style>\n",
       "<table border=\"1\" class=\"dataframe\">\n",
       "  <thead>\n",
       "    <tr style=\"text-align: right;\">\n",
       "      <th></th>\n",
       "      <th>id</th>\n",
       "      <th>type</th>\n",
       "    </tr>\n",
       "  </thead>\n",
       "  <tbody>\n",
       "    <tr>\n",
       "      <th>0</th>\n",
       "      <td>ОРГ1-02649</td>\n",
       "      <td>0</td>\n",
       "    </tr>\n",
       "    <tr>\n",
       "      <th>1</th>\n",
       "      <td>ОРГ2-05929</td>\n",
       "      <td>0</td>\n",
       "    </tr>\n",
       "    <tr>\n",
       "      <th>2</th>\n",
       "      <td>ОРГ2-05859</td>\n",
       "      <td>0</td>\n",
       "    </tr>\n",
       "  </tbody>\n",
       "</table>\n",
       "</div>"
      ],
      "text/plain": [
       "           id  type\n",
       "0  ОРГ1-02649     0\n",
       "1  ОРГ2-05929     0\n",
       "2  ОРГ2-05859     0"
      ]
     },
     "execution_count": 7,
     "metadata": {},
     "output_type": "execute_result"
    }
   ],
   "source": [
    "df_test.head(3)"
   ]
  },
  {
   "cell_type": "markdown",
   "metadata": {
    "id": "aOJlHpEn52mz"
   },
   "source": [
    "Узнаем размерность наборов"
   ]
  },
  {
   "cell_type": "code",
   "execution_count": 8,
   "metadata": {
    "colab": {
     "base_uri": "https://localhost:8080/"
    },
    "id": "uAIT-vwLUI0z",
    "outputId": "b8f6e810-ffe6-4e1b-a444-a0bba610ed95"
   },
   "outputs": [
    {
     "name": "stdout",
     "output_type": "stream",
     "text": [
      "df_train (550, 2)\n",
      "df_calls (407867, 6)\n",
      "df_connection_time (230662, 8)\n",
      "df_ed (5609, 4)\n",
      "df_test (262, 2)\n"
     ]
    }
   ],
   "source": [
    "print(\"df_train\", df_train.shape)\n",
    "print(\"df_calls\", df_calls.shape)\n",
    "print(\"df_connection_time\", df_connection_time.shape)\n",
    "print(\"df_ed\", df_ed.shape)\n",
    "print(\"df_test\", df_test.shape)"
   ]
  },
  {
   "cell_type": "markdown",
   "metadata": {
    "id": "ws9AgKjiA7Jd"
   },
   "source": [
    "### Видоизмение данных"
   ]
  },
  {
   "cell_type": "markdown",
   "metadata": {
    "id": "96OuAK1rBBTK"
   },
   "source": [
    "Обьединим два набора с данными"
   ]
  },
  {
   "cell_type": "code",
   "execution_count": 9,
   "metadata": {
    "colab": {
     "base_uri": "https://localhost:8080/",
     "height": 143
    },
    "id": "SsXefQu_558z",
    "outputId": "56542eec-bfc1-451f-fdc8-0bb241cb371f"
   },
   "outputs": [
    {
     "data": {
      "text/html": [
       "<div>\n",
       "<style scoped>\n",
       "    .dataframe tbody tr th:only-of-type {\n",
       "        vertical-align: middle;\n",
       "    }\n",
       "\n",
       "    .dataframe tbody tr th {\n",
       "        vertical-align: top;\n",
       "    }\n",
       "\n",
       "    .dataframe thead th {\n",
       "        text-align: right;\n",
       "    }\n",
       "</style>\n",
       "<table border=\"1\" class=\"dataframe\">\n",
       "  <thead>\n",
       "    <tr style=\"text-align: right;\">\n",
       "      <th></th>\n",
       "      <th>id</th>\n",
       "      <th>type</th>\n",
       "      <th>Табельный номер руководителя</th>\n",
       "      <th>Вид образования</th>\n",
       "      <th>Специальность</th>\n",
       "    </tr>\n",
       "  </thead>\n",
       "  <tbody>\n",
       "    <tr>\n",
       "      <th>0</th>\n",
       "      <td>ОРГ1-02050</td>\n",
       "      <td>2</td>\n",
       "      <td>NaN</td>\n",
       "      <td>Неполное высшее образование</td>\n",
       "      <td>Технологические машины и оборудование</td>\n",
       "    </tr>\n",
       "    <tr>\n",
       "      <th>2</th>\n",
       "      <td>ОРГ1-02783</td>\n",
       "      <td>2</td>\n",
       "      <td>ОРГ1-01974</td>\n",
       "      <td>Высшее образование</td>\n",
       "      <td>Автоматизация технологических процессов и прои...</td>\n",
       "    </tr>\n",
       "    <tr>\n",
       "      <th>3</th>\n",
       "      <td>ОРГ2-06173</td>\n",
       "      <td>0</td>\n",
       "      <td>ОРГ2-01170</td>\n",
       "      <td>Высшее образование</td>\n",
       "      <td>Управление качеством</td>\n",
       "    </tr>\n",
       "  </tbody>\n",
       "</table>\n",
       "</div>"
      ],
      "text/plain": [
       "           id  type Табельный номер руководителя              Вид образования  \\\n",
       "0  ОРГ1-02050     2                          NaN  Неполное высшее образование   \n",
       "2  ОРГ1-02783     2                   ОРГ1-01974           Высшее образование   \n",
       "3  ОРГ2-06173     0                   ОРГ2-01170           Высшее образование   \n",
       "\n",
       "                                       Специальность  \n",
       "0              Технологические машины и оборудование  \n",
       "2  Автоматизация технологических процессов и прои...  \n",
       "3                               Управление качеством  "
      ]
     },
     "execution_count": 9,
     "metadata": {},
     "output_type": "execute_result"
    }
   ],
   "source": [
    "df_train = pd.merge(df_train, df_ed , on=\"id\", how='left').drop_duplicates(subset=\"id\")\n",
    "\n",
    "df_train.head(3)"
   ]
  },
  {
   "cell_type": "code",
   "execution_count": 10,
   "metadata": {
    "colab": {
     "base_uri": "https://localhost:8080/"
    },
    "id": "kPLanbOkrxXp",
    "outputId": "c6d97a39-741d-4053-8aea-1e0ff37c37d2"
   },
   "outputs": [
    {
     "data": {
      "text/plain": [
       "Высшее образование                                297\n",
       "Среднее профессиональное образование               64\n",
       "Высшее образование - бакалавриат                   59\n",
       "Высшее образование - специалитет, магистратура     30\n",
       "Начальное профессиональное образование              7\n",
       "Повышение квалификации                              7\n",
       "Неполное высшее образование                         5\n",
       "Среднее общее образование                           3\n",
       "Среднее (полное) общее образование                  2\n",
       "Переподготовка                                      2\n",
       "Профессиональное обучение                           1\n",
       "Name: Вид образования, dtype: int64"
      ]
     },
     "execution_count": 10,
     "metadata": {},
     "output_type": "execute_result"
    }
   ],
   "source": [
    "df_train = df_train.drop([\"Табельный номер руководителя\", \"Специальность\"],axis = 1)\n",
    "\n",
    "df_train[\"Вид образования\"].value_counts()"
   ]
  },
  {
   "cell_type": "code",
   "execution_count": 11,
   "metadata": {
    "colab": {
     "base_uri": "https://localhost:8080/"
    },
    "id": "UPMxSExFsNg5",
    "outputId": "b401c8e6-aad0-42d1-c76c-5e2d266b5457"
   },
   "outputs": [
    {
     "data": {
      "text/plain": [
       " 0     297\n",
       "-1      73\n",
       " 10     64\n",
       " 1      59\n",
       " 2      30\n",
       " 3       7\n",
       " 6       7\n",
       " 4       5\n",
       " 9       3\n",
       " 8       2\n",
       " 5       2\n",
       " 7       1\n",
       "Name: Вид образования, dtype: int64"
      ]
     },
     "execution_count": 11,
     "metadata": {},
     "output_type": "execute_result"
    }
   ],
   "source": [
    "df_train[\"Вид образования\"] = df_train[\"Вид образования\"].astype('category')\n",
    "df_train[\"Вид образования\"] = df_train[\"Вид образования\"].cat.codes\n",
    "\n",
    "df_train[\"Вид образования\"].value_counts()"
   ]
  },
  {
   "cell_type": "markdown",
   "metadata": {
    "id": "4sWW6YB_BRiF"
   },
   "source": [
    "Оставим только столбец - опоздания сотрудников"
   ]
  },
  {
   "cell_type": "code",
   "execution_count": 12,
   "metadata": {
    "colab": {
     "base_uri": "https://localhost:8080/",
     "height": 206
    },
    "id": "MEjOCCuFqjtq",
    "outputId": "c30f43d4-5ef6-4209-dab3-c67915ca271a"
   },
   "outputs": [
    {
     "data": {
      "text/html": [
       "<div>\n",
       "<style scoped>\n",
       "    .dataframe tbody tr th:only-of-type {\n",
       "        vertical-align: middle;\n",
       "    }\n",
       "\n",
       "    .dataframe tbody tr th {\n",
       "        vertical-align: top;\n",
       "    }\n",
       "\n",
       "    .dataframe thead th {\n",
       "        text-align: right;\n",
       "    }\n",
       "</style>\n",
       "<table border=\"1\" class=\"dataframe\">\n",
       "  <thead>\n",
       "    <tr style=\"text-align: right;\">\n",
       "      <th></th>\n",
       "      <th>id</th>\n",
       "      <th>Признак опоздания</th>\n",
       "    </tr>\n",
       "  </thead>\n",
       "  <tbody>\n",
       "    <tr>\n",
       "      <th>127561</th>\n",
       "      <td>ОРГ1-01589</td>\n",
       "      <td>Опоздание</td>\n",
       "    </tr>\n",
       "    <tr>\n",
       "      <th>127562</th>\n",
       "      <td>ОРГ1-01589</td>\n",
       "      <td>Опоздание</td>\n",
       "    </tr>\n",
       "    <tr>\n",
       "      <th>127563</th>\n",
       "      <td>ОРГ1-01589</td>\n",
       "      <td>Опоздание</td>\n",
       "    </tr>\n",
       "    <tr>\n",
       "      <th>127564</th>\n",
       "      <td>ОРГ1-01589</td>\n",
       "      <td>Опоздание</td>\n",
       "    </tr>\n",
       "    <tr>\n",
       "      <th>127565</th>\n",
       "      <td>ОРГ1-01589</td>\n",
       "      <td>Опоздание</td>\n",
       "    </tr>\n",
       "  </tbody>\n",
       "</table>\n",
       "</div>"
      ],
      "text/plain": [
       "                id Признак опоздания\n",
       "127561  ОРГ1-01589         Опоздание\n",
       "127562  ОРГ1-01589         Опоздание\n",
       "127563  ОРГ1-01589         Опоздание\n",
       "127564  ОРГ1-01589         Опоздание\n",
       "127565  ОРГ1-01589         Опоздание"
      ]
     },
     "execution_count": 12,
     "metadata": {},
     "output_type": "execute_result"
    }
   ],
   "source": [
    "df_connection_time_res = df_connection_time[[\"id\",\"Признак опоздания\"]]\n",
    "df_connection_time_res = df_connection_time_res[df_connection_time_res[\"Признак опоздания\"].notna()]\n",
    "\n",
    "df_connection_time_res.head()"
   ]
  },
  {
   "cell_type": "code",
   "execution_count": 13,
   "metadata": {
    "colab": {
     "base_uri": "https://localhost:8080/",
     "height": 175
    },
    "id": "d23YUHBeBcQ-",
    "outputId": "7db710bb-d9b9-4247-9636-87fdd30510e1"
   },
   "outputs": [
    {
     "data": {
      "text/html": [
       "<div>\n",
       "<style scoped>\n",
       "    .dataframe tbody tr th:only-of-type {\n",
       "        vertical-align: middle;\n",
       "    }\n",
       "\n",
       "    .dataframe tbody tr th {\n",
       "        vertical-align: top;\n",
       "    }\n",
       "\n",
       "    .dataframe thead th {\n",
       "        text-align: right;\n",
       "    }\n",
       "</style>\n",
       "<table border=\"1\" class=\"dataframe\">\n",
       "  <thead>\n",
       "    <tr style=\"text-align: right;\">\n",
       "      <th></th>\n",
       "      <th>Число опозданий</th>\n",
       "    </tr>\n",
       "    <tr>\n",
       "      <th>id</th>\n",
       "      <th></th>\n",
       "    </tr>\n",
       "  </thead>\n",
       "  <tbody>\n",
       "    <tr>\n",
       "      <th>ОРГ1-00004</th>\n",
       "      <td>275</td>\n",
       "    </tr>\n",
       "    <tr>\n",
       "      <th>ОРГ1-00028</th>\n",
       "      <td>35</td>\n",
       "    </tr>\n",
       "    <tr>\n",
       "      <th>ОРГ1-00030</th>\n",
       "      <td>57</td>\n",
       "    </tr>\n",
       "  </tbody>\n",
       "</table>\n",
       "</div>"
      ],
      "text/plain": [
       "            Число опозданий\n",
       "id                         \n",
       "ОРГ1-00004              275\n",
       "ОРГ1-00028               35\n",
       "ОРГ1-00030               57"
      ]
     },
     "execution_count": 13,
     "metadata": {},
     "output_type": "execute_result"
    }
   ],
   "source": [
    "df_connection_time_res = df_connection_time_res.groupby(\"id\").count()\n",
    "df_connection_time_res = df_connection_time_res.rename(columns={\"Признак опоздания\": \"Число опозданий\"})\n",
    "\n",
    "df_connection_time_res.head(3)"
   ]
  },
  {
   "cell_type": "code",
   "execution_count": 14,
   "metadata": {
    "colab": {
     "base_uri": "https://localhost:8080/",
     "height": 143
    },
    "id": "gUWtNYN4BO7B",
    "outputId": "db8947f8-b4fa-4c2c-c6f8-25c2ed1cc04d"
   },
   "outputs": [
    {
     "data": {
      "text/html": [
       "<div>\n",
       "<style scoped>\n",
       "    .dataframe tbody tr th:only-of-type {\n",
       "        vertical-align: middle;\n",
       "    }\n",
       "\n",
       "    .dataframe tbody tr th {\n",
       "        vertical-align: top;\n",
       "    }\n",
       "\n",
       "    .dataframe thead th {\n",
       "        text-align: right;\n",
       "    }\n",
       "</style>\n",
       "<table border=\"1\" class=\"dataframe\">\n",
       "  <thead>\n",
       "    <tr style=\"text-align: right;\">\n",
       "      <th></th>\n",
       "      <th>id</th>\n",
       "      <th>type</th>\n",
       "      <th>Вид образования</th>\n",
       "      <th>Число опозданий</th>\n",
       "    </tr>\n",
       "  </thead>\n",
       "  <tbody>\n",
       "    <tr>\n",
       "      <th>0</th>\n",
       "      <td>ОРГ1-02050</td>\n",
       "      <td>2</td>\n",
       "      <td>4</td>\n",
       "      <td>5.0</td>\n",
       "    </tr>\n",
       "    <tr>\n",
       "      <th>1</th>\n",
       "      <td>ОРГ1-02783</td>\n",
       "      <td>2</td>\n",
       "      <td>0</td>\n",
       "      <td>7.0</td>\n",
       "    </tr>\n",
       "    <tr>\n",
       "      <th>2</th>\n",
       "      <td>ОРГ2-06173</td>\n",
       "      <td>0</td>\n",
       "      <td>0</td>\n",
       "      <td>22.0</td>\n",
       "    </tr>\n",
       "  </tbody>\n",
       "</table>\n",
       "</div>"
      ],
      "text/plain": [
       "           id  type  Вид образования  Число опозданий\n",
       "0  ОРГ1-02050     2                4              5.0\n",
       "1  ОРГ1-02783     2                0              7.0\n",
       "2  ОРГ2-06173     0                0             22.0"
      ]
     },
     "execution_count": 14,
     "metadata": {},
     "output_type": "execute_result"
    }
   ],
   "source": [
    "df_train = pd.merge(df_train, df_connection_time_res , on=\"id\", how='left')#.drop([\"event_type\"],axis =1)\n",
    "\n",
    "df_train.head(3)"
   ]
  },
  {
   "cell_type": "code",
   "execution_count": 15,
   "metadata": {
    "colab": {
     "base_uri": "https://localhost:8080/"
    },
    "id": "xXiblk7K6qPy",
    "outputId": "572bc872-6420-40ad-dcac-b7e16c4a37f4"
   },
   "outputs": [
    {
     "name": "stdout",
     "output_type": "stream",
     "text": [
      "<class 'pandas.core.frame.DataFrame'>\n",
      "Int64Index: 550 entries, 0 to 549\n",
      "Data columns (total 4 columns):\n",
      " #   Column           Non-Null Count  Dtype  \n",
      "---  ------           --------------  -----  \n",
      " 0   id               550 non-null    object \n",
      " 1   type             550 non-null    int64  \n",
      " 2   Вид образования  550 non-null    int8   \n",
      " 3   Число опозданий  491 non-null    float64\n",
      "dtypes: float64(1), int64(1), int8(1), object(1)\n",
      "memory usage: 17.7+ KB\n"
     ]
    }
   ],
   "source": [
    "df_train.info()"
   ]
  },
  {
   "cell_type": "markdown",
   "metadata": {},
   "source": [
    "## Добавим суммарное время звонков!\n",
    "\n"
   ]
  },
  {
   "cell_type": "code",
   "execution_count": 16,
   "metadata": {},
   "outputs": [
    {
     "data": {
      "text/html": [
       "<div>\n",
       "<style scoped>\n",
       "    .dataframe tbody tr th:only-of-type {\n",
       "        vertical-align: middle;\n",
       "    }\n",
       "\n",
       "    .dataframe tbody tr th {\n",
       "        vertical-align: top;\n",
       "    }\n",
       "\n",
       "    .dataframe thead th {\n",
       "        text-align: right;\n",
       "    }\n",
       "</style>\n",
       "<table border=\"1\" class=\"dataframe\">\n",
       "  <thead>\n",
       "    <tr style=\"text-align: right;\">\n",
       "      <th></th>\n",
       "      <th>id</th>\n",
       "      <th>type</th>\n",
       "      <th>Вид образования</th>\n",
       "      <th>Число опозданий</th>\n",
       "      <th>CallTime</th>\n",
       "    </tr>\n",
       "  </thead>\n",
       "  <tbody>\n",
       "    <tr>\n",
       "      <th>0</th>\n",
       "      <td>ОРГ1-02050</td>\n",
       "      <td>2</td>\n",
       "      <td>4</td>\n",
       "      <td>5.0</td>\n",
       "      <td>4.810983e+18</td>\n",
       "    </tr>\n",
       "    <tr>\n",
       "      <th>1</th>\n",
       "      <td>ОРГ1-02783</td>\n",
       "      <td>2</td>\n",
       "      <td>0</td>\n",
       "      <td>7.0</td>\n",
       "      <td>1.350599e+19</td>\n",
       "    </tr>\n",
       "    <tr>\n",
       "      <th>2</th>\n",
       "      <td>ОРГ2-06173</td>\n",
       "      <td>0</td>\n",
       "      <td>0</td>\n",
       "      <td>22.0</td>\n",
       "      <td>NaN</td>\n",
       "    </tr>\n",
       "    <tr>\n",
       "      <th>3</th>\n",
       "      <td>ОРГ2-05359</td>\n",
       "      <td>2</td>\n",
       "      <td>10</td>\n",
       "      <td>6.0</td>\n",
       "      <td>NaN</td>\n",
       "    </tr>\n",
       "    <tr>\n",
       "      <th>4</th>\n",
       "      <td>ОРГ1-00803</td>\n",
       "      <td>2</td>\n",
       "      <td>0</td>\n",
       "      <td>35.0</td>\n",
       "      <td>1.388889e+17</td>\n",
       "    </tr>\n",
       "    <tr>\n",
       "      <th>...</th>\n",
       "      <td>...</td>\n",
       "      <td>...</td>\n",
       "      <td>...</td>\n",
       "      <td>...</td>\n",
       "      <td>...</td>\n",
       "    </tr>\n",
       "    <tr>\n",
       "      <th>545</th>\n",
       "      <td>ОРГ1-02587</td>\n",
       "      <td>2</td>\n",
       "      <td>-1</td>\n",
       "      <td>NaN</td>\n",
       "      <td>NaN</td>\n",
       "    </tr>\n",
       "    <tr>\n",
       "      <th>546</th>\n",
       "      <td>ОРГ1-02383</td>\n",
       "      <td>2</td>\n",
       "      <td>0</td>\n",
       "      <td>54.0</td>\n",
       "      <td>2.259805e+19</td>\n",
       "    </tr>\n",
       "    <tr>\n",
       "      <th>547</th>\n",
       "      <td>ОРГ1-02862</td>\n",
       "      <td>2</td>\n",
       "      <td>-1</td>\n",
       "      <td>NaN</td>\n",
       "      <td>NaN</td>\n",
       "    </tr>\n",
       "    <tr>\n",
       "      <th>548</th>\n",
       "      <td>ОРГ1-00471</td>\n",
       "      <td>2</td>\n",
       "      <td>-1</td>\n",
       "      <td>12.0</td>\n",
       "      <td>1.749719e+19</td>\n",
       "    </tr>\n",
       "    <tr>\n",
       "      <th>549</th>\n",
       "      <td>ОРГ2-02694</td>\n",
       "      <td>2</td>\n",
       "      <td>-1</td>\n",
       "      <td>NaN</td>\n",
       "      <td>1.291306e+17</td>\n",
       "    </tr>\n",
       "  </tbody>\n",
       "</table>\n",
       "<p>550 rows × 5 columns</p>\n",
       "</div>"
      ],
      "text/plain": [
       "             id  type  Вид образования  Число опозданий      CallTime\n",
       "0    ОРГ1-02050     2                4              5.0  4.810983e+18\n",
       "1    ОРГ1-02783     2                0              7.0  1.350599e+19\n",
       "2    ОРГ2-06173     0                0             22.0           NaN\n",
       "3    ОРГ2-05359     2               10              6.0           NaN\n",
       "4    ОРГ1-00803     2                0             35.0  1.388889e+17\n",
       "..          ...   ...              ...              ...           ...\n",
       "545  ОРГ1-02587     2               -1              NaN           NaN\n",
       "546  ОРГ1-02383     2                0             54.0  2.259805e+19\n",
       "547  ОРГ1-02862     2               -1              NaN           NaN\n",
       "548  ОРГ1-00471     2               -1             12.0  1.749719e+19\n",
       "549  ОРГ2-02694     2               -1              NaN  1.291306e+17\n",
       "\n",
       "[550 rows x 5 columns]"
      ]
     },
     "execution_count": 16,
     "metadata": {},
     "output_type": "execute_result"
    }
   ],
   "source": [
    "def str_to_float(str):\n",
    "    str=str.replace(',','')\n",
    "    return float(str)\n",
    "\n",
    "df_calls['CallTime']=df_calls['CallTime'].map(str_to_float)\n",
    "CallTime=pd.DataFrame(df_calls.groupby('id')['CallTime'].sum()).reset_index()\n",
    "df_train = pd.merge(df_train, CallTime , on=\"id\", how='left')\n",
    "df_train"
   ]
  },
  {
   "cell_type": "code",
   "execution_count": null,
   "metadata": {},
   "outputs": [],
   "source": []
  },
  {
   "cell_type": "markdown",
   "metadata": {
    "id": "JfDtpoZoeE47"
   },
   "source": [
    "## Заменим пропуски на нули"
   ]
  },
  {
   "cell_type": "code",
   "execution_count": 17,
   "metadata": {
    "id": "pgmgFqen62Rh"
   },
   "outputs": [],
   "source": [
    "df_train = df_train.fillna(0)"
   ]
  },
  {
   "cell_type": "code",
   "execution_count": 18,
   "metadata": {
    "colab": {
     "base_uri": "https://localhost:8080/",
     "height": 850
    },
    "id": "TwtfWDihUyvT",
    "outputId": "5aa11c1e-fe0d-40cf-e368-8aa5fcecdc21"
   },
   "outputs": [
    {
     "data": {
      "image/png": "[encoded data removed]",
      "text/plain": [
       "<Figure size 1080x1080 with 2 Axes>"
      ]
     },
     "metadata": {
      "needs_background": "light"
     },
     "output_type": "display_data"
    }
   ],
   "source": [
    "plt.rcParams['figure.figsize']=(15,15)\n",
    "\n",
    "corr = df_train.corr()\n",
    "g = sns.heatmap(corr, square = True, annot=True)"
   ]
  },
  {
   "cell_type": "markdown",
   "metadata": {
    "id": "870l_9AGdTvF"
   },
   "source": [
    "## Выделим выборки"
   ]
  },
  {
   "cell_type": "code",
   "execution_count": 19,
   "metadata": {
    "id": "R4fN_sD-dGSG"
   },
   "outputs": [],
   "source": [
    "X = df_train.drop([\"id\", \"type\"], axis = 1)\n",
    "y = df_train[[\"type\"]]"
   ]
  },
  {
   "cell_type": "code",
   "execution_count": 20,
   "metadata": {
    "colab": {
     "base_uri": "https://localhost:8080/"
    },
    "id": "Xbgef81UdZJL",
    "outputId": "9f140bbe-589d-49c2-b1ee-b42de7a2f270"
   },
   "outputs": [
    {
     "name": "stdout",
     "output_type": "stream",
     "text": [
      "<class 'pandas.core.frame.DataFrame'>\n",
      "Int64Index: 550 entries, 0 to 549\n",
      "Data columns (total 3 columns):\n",
      " #   Column           Non-Null Count  Dtype  \n",
      "---  ------           --------------  -----  \n",
      " 0   Вид образования  550 non-null    int8   \n",
      " 1   Число опозданий  550 non-null    float64\n",
      " 2   CallTime         550 non-null    float64\n",
      "dtypes: float64(2), int8(1)\n",
      "memory usage: 13.4 KB\n"
     ]
    }
   ],
   "source": [
    "X.info()"
   ]
  },
  {
   "cell_type": "code",
   "execution_count": 21,
   "metadata": {
    "id": "_e7ZJ3QjdZLW"
   },
   "outputs": [],
   "source": [
    "X_train, X_test, y_train, y_test = train_test_split(X, y, test_size=0.3, random_state=42)"
   ]
  },
  {
   "cell_type": "markdown",
   "metadata": {
    "id": "wWOMlu5megED"
   },
   "source": [
    "## Обучение модели"
   ]
  },
  {
   "cell_type": "code",
   "execution_count": 22,
   "metadata": {
    "id": "v550JiyIdZNk"
   },
   "outputs": [],
   "source": [
    "clf = RandomForestClassifier(random_state=0)"
   ]
  },
  {
   "cell_type": "code",
   "execution_count": 23,
   "metadata": {
    "colab": {
     "base_uri": "https://localhost:8080/"
    },
    "id": "hBISnr7ndZQM",
    "outputId": "18102c82-2b16-4395-84c2-58bbecc1218b"
   },
   "outputs": [
    {
     "name": "stderr",
     "output_type": "stream",
     "text": [
      "/tmp/ipykernel_8415/2395142735.py:1: DataConversionWarning: A column-vector y was passed when a 1d array was expected. Please change the shape of y to (n_samples,), for example using ravel().\n",
      "  clf.fit(X_train, y_train)\n"
     ]
    },
    {
     "data": {
      "text/html": [
       "<style>#sk-container-id-1 {color: black;background-color: white;}#sk-container-id-1 pre{padding: 0;}#sk-container-id-1 div.sk-toggleable {background-color: white;}#sk-container-id-1 label.sk-toggleable__label {cursor: pointer;display: block;width: 100%;margin-bottom: 0;padding: 0.3em;box-sizing: border-box;text-align: center;}#sk-container-id-1 label.sk-toggleable__label-arrow:before {content: \"▸\";float: left;margin-right: 0.25em;color: #696969;}#sk-container-id-1 label.sk-toggleable__label-arrow:hover:before {color: black;}#sk-container-id-1 div.sk-estimator:hover label.sk-toggleable__label-arrow:before {color: black;}#sk-container-id-1 div.sk-toggleable__content {max-height: 0;max-width: 0;overflow: hidden;text-align: left;background-color: #f0f8ff;}#sk-container-id-1 div.sk-toggleable__content pre {margin: 0.2em;color: black;border-radius: 0.25em;background-color: #f0f8ff;}#sk-container-id-1 input.sk-toggleable__control:checked~div.sk-toggleable__content {max-height: 200px;max-width: 100%;overflow: auto;}#sk-container-id-1 input.sk-toggleable__control:checked~label.sk-toggleable__label-arrow:before {content: \"▾\";}#sk-container-id-1 div.sk-estimator input.sk-toggleable__control:checked~label.sk-toggleable__label {background-color: #d4ebff;}#sk-container-id-1 div.sk-label input.sk-toggleable__control:checked~label.sk-toggleable__label {background-color: #d4ebff;}#sk-container-id-1 input.sk-hidden--visually {border: 0;clip: rect(1px 1px 1px 1px);clip: rect(1px, 1px, 1px, 1px);height: 1px;margin: -1px;overflow: hidden;padding: 0;position: absolute;width: 1px;}#sk-container-id-1 div.sk-estimator {font-family: monospace;background-color: #f0f8ff;border: 1px dotted black;border-radius: 0.25em;box-sizing: border-box;margin-bottom: 0.5em;}#sk-container-id-1 div.sk-estimator:hover {background-color: #d4ebff;}#sk-container-id-1 div.sk-parallel-item::after {content: \"\";width: 100%;border-bottom: 1px solid gray;flex-grow: 1;}#sk-container-id-1 div.sk-label:hover label.sk-toggleable__label {background-color: #d4ebff;}#sk-container-id-1 div.sk-serial::before {content: \"\";position: absolute;border-left: 1px solid gray;box-sizing: border-box;top: 0;bottom: 0;left: 50%;z-index: 0;}#sk-container-id-1 div.sk-serial {display: flex;flex-direction: column;align-items: center;background-color: white;padding-right: 0.2em;padding-left: 0.2em;position: relative;}#sk-container-id-1 div.sk-item {position: relative;z-index: 1;}#sk-container-id-1 div.sk-parallel {display: flex;align-items: stretch;justify-content: center;background-color: white;position: relative;}#sk-container-id-1 div.sk-item::before, #sk-container-id-1 div.sk-parallel-item::before {content: \"\";position: absolute;border-left: 1px solid gray;box-sizing: border-box;top: 0;bottom: 0;left: 50%;z-index: -1;}#sk-container-id-1 div.sk-parallel-item {display: flex;flex-direction: column;z-index: 1;position: relative;background-color: white;}#sk-container-id-1 div.sk-parallel-item:first-child::after {align-self: flex-end;width: 50%;}#sk-container-id-1 div.sk-parallel-item:last-child::after {align-self: flex-start;width: 50%;}#sk-container-id-1 div.sk-parallel-item:only-child::after {width: 0;}#sk-container-id-1 div.sk-dashed-wrapped {border: 1px dashed gray;margin: 0 0.4em 0.5em 0.4em;box-sizing: border-box;padding-bottom: 0.4em;background-color: white;}#sk-container-id-1 div.sk-label label {font-family: monospace;font-weight: bold;display: inline-block;line-height: 1.2em;}#sk-container-id-1 div.sk-label-container {text-align: center;}#sk-container-id-1 div.sk-container {/* jupyter's `normalize.less` sets `[hidden] { display: none; }` but bootstrap.min.css set `[hidden] { display: none !important; }` so we also need the `!important` here to be able to override the default hidden behavior on the sphinx rendered scikit-learn.org. See: https://github.com/scikit-learn/scikit-learn/issues/21755 */display: inline-block !important;position: relative;}#sk-container-id-1 div.sk-text-repr-fallback {display: none;}</style><div id=\"sk-container-id-1\" class=\"sk-top-container\"><div class=\"sk-text-repr-fallback\"><pre>RandomForestClassifier(random_state=0)</pre><b>In a Jupyter environment, please rerun this cell to show the HTML representation or trust the notebook. <br />On GitHub, the HTML representation is unable to render, please try loading this page with nbviewer.org.</b></div><div class=\"sk-container\" hidden><div class=\"sk-item\"><div class=\"sk-estimator sk-toggleable\"><input class=\"sk-toggleable__control sk-hidden--visually\" id=\"sk-estimator-id-1\" type=\"checkbox\" checked><label for=\"sk-estimator-id-1\" class=\"sk-toggleable__label sk-toggleable__label-arrow\">RandomForestClassifier</label><div class=\"sk-toggleable__content\"><pre>RandomForestClassifier(random_state=0)</pre></div></div></div></div></div>"
      ],
      "text/plain": [
       "RandomForestClassifier(random_state=0)"
      ]
     },
     "execution_count": 23,
     "metadata": {},
     "output_type": "execute_result"
    }
   ],
   "source": [
    "clf.fit(X_train, y_train)"
   ]
  },
  {
   "cell_type": "markdown",
   "metadata": {
    "id": "vUPON7vxenEJ"
   },
   "source": [
    "## Оценка точности"
   ]
  },
  {
   "cell_type": "code",
   "execution_count": 24,
   "metadata": {
    "id": "m1g031fzexib"
   },
   "outputs": [],
   "source": [
    "pred = clf.predict(X_test)"
   ]
  },
  {
   "cell_type": "code",
   "execution_count": 25,
   "metadata": {
    "colab": {
     "base_uri": "https://localhost:8080/",
     "height": 143
    },
    "id": "kBiihKwKe9AB",
    "outputId": "6b3522be-2804-46ed-ff1a-7ac46eb0bad1"
   },
   "outputs": [
    {
     "data": {
      "text/html": [
       "<div>\n",
       "<style scoped>\n",
       "    .dataframe tbody tr th:only-of-type {\n",
       "        vertical-align: middle;\n",
       "    }\n",
       "\n",
       "    .dataframe tbody tr th {\n",
       "        vertical-align: top;\n",
       "    }\n",
       "\n",
       "    .dataframe thead th {\n",
       "        text-align: right;\n",
       "    }\n",
       "</style>\n",
       "<table border=\"1\" class=\"dataframe\">\n",
       "  <thead>\n",
       "    <tr style=\"text-align: right;\">\n",
       "      <th></th>\n",
       "      <th>type</th>\n",
       "    </tr>\n",
       "  </thead>\n",
       "  <tbody>\n",
       "    <tr>\n",
       "      <th>195</th>\n",
       "      <td>2</td>\n",
       "    </tr>\n",
       "    <tr>\n",
       "      <th>79</th>\n",
       "      <td>2</td>\n",
       "    </tr>\n",
       "    <tr>\n",
       "      <th>480</th>\n",
       "      <td>0</td>\n",
       "    </tr>\n",
       "  </tbody>\n",
       "</table>\n",
       "</div>"
      ],
      "text/plain": [
       "     type\n",
       "195     2\n",
       "79      2\n",
       "480     0"
      ]
     },
     "execution_count": 25,
     "metadata": {},
     "output_type": "execute_result"
    }
   ],
   "source": [
    "y_test.head(3)"
   ]
  },
  {
   "cell_type": "code",
   "execution_count": 26,
   "metadata": {
    "colab": {
     "base_uri": "https://localhost:8080/"
    },
    "id": "OaySnwRzejpc",
    "outputId": "c1832f7c-3886-4233-f48e-2ba722840374"
   },
   "outputs": [
    {
     "name": "stdout",
     "output_type": "stream",
     "text": [
      "Recall score: 0.291343669250646\n"
     ]
    }
   ],
   "source": [
    "from sklearn.metrics import recall_score\n",
    "\n",
    "print(\"Recall score:\", recall_score(y_test, pred, average='macro'))"
   ]
  },
  {
   "cell_type": "code",
   "execution_count": 27,
   "metadata": {},
   "outputs": [
    {
     "name": "stdout",
     "output_type": "stream",
     "text": [
      "              precision    recall  f1-score   support\n",
      "\n",
      "           0       0.28      0.24      0.26        45\n",
      "           1       0.42      0.20      0.27        25\n",
      "           2       0.55      0.72      0.62        86\n",
      "           3       0.00      0.00      0.00         9\n",
      "\n",
      "    accuracy                           0.47       165\n",
      "   macro avg       0.31      0.29      0.29       165\n",
      "weighted avg       0.43      0.47      0.44       165\n",
      "\n"
     ]
    }
   ],
   "source": [
    "print(classification_report(y_test, pred))"
   ]
  },
  {
   "cell_type": "markdown",
   "metadata": {},
   "source": [
    "## Генерация предсказания"
   ]
  },
  {
   "cell_type": "code",
   "execution_count": 28,
   "metadata": {},
   "outputs": [
    {
     "data": {
      "text/html": [
       "<div>\n",
       "<style scoped>\n",
       "    .dataframe tbody tr th:only-of-type {\n",
       "        vertical-align: middle;\n",
       "    }\n",
       "\n",
       "    .dataframe tbody tr th {\n",
       "        vertical-align: top;\n",
       "    }\n",
       "\n",
       "    .dataframe thead th {\n",
       "        text-align: right;\n",
       "    }\n",
       "</style>\n",
       "<table border=\"1\" class=\"dataframe\">\n",
       "  <thead>\n",
       "    <tr style=\"text-align: right;\">\n",
       "      <th></th>\n",
       "      <th>id</th>\n",
       "      <th>type</th>\n",
       "    </tr>\n",
       "  </thead>\n",
       "  <tbody>\n",
       "    <tr>\n",
       "      <th>0</th>\n",
       "      <td>ОРГ1-02649</td>\n",
       "      <td>0</td>\n",
       "    </tr>\n",
       "    <tr>\n",
       "      <th>1</th>\n",
       "      <td>ОРГ2-05929</td>\n",
       "      <td>0</td>\n",
       "    </tr>\n",
       "    <tr>\n",
       "      <th>2</th>\n",
       "      <td>ОРГ2-05859</td>\n",
       "      <td>0</td>\n",
       "    </tr>\n",
       "    <tr>\n",
       "      <th>3</th>\n",
       "      <td>ОРГ1-00279</td>\n",
       "      <td>0</td>\n",
       "    </tr>\n",
       "    <tr>\n",
       "      <th>4</th>\n",
       "      <td>ОРГ2-01613</td>\n",
       "      <td>0</td>\n",
       "    </tr>\n",
       "    <tr>\n",
       "      <th>...</th>\n",
       "      <td>...</td>\n",
       "      <td>...</td>\n",
       "    </tr>\n",
       "    <tr>\n",
       "      <th>257</th>\n",
       "      <td>ОРГ1-02893</td>\n",
       "      <td>0</td>\n",
       "    </tr>\n",
       "    <tr>\n",
       "      <th>258</th>\n",
       "      <td>ОРГ2-01077</td>\n",
       "      <td>0</td>\n",
       "    </tr>\n",
       "    <tr>\n",
       "      <th>259</th>\n",
       "      <td>ОРГ1-00469</td>\n",
       "      <td>0</td>\n",
       "    </tr>\n",
       "    <tr>\n",
       "      <th>260</th>\n",
       "      <td>ОРГ1-02060</td>\n",
       "      <td>0</td>\n",
       "    </tr>\n",
       "    <tr>\n",
       "      <th>261</th>\n",
       "      <td>ОРГ2-05042</td>\n",
       "      <td>0</td>\n",
       "    </tr>\n",
       "  </tbody>\n",
       "</table>\n",
       "<p>262 rows × 2 columns</p>\n",
       "</div>"
      ],
      "text/plain": [
       "             id  type\n",
       "0    ОРГ1-02649     0\n",
       "1    ОРГ2-05929     0\n",
       "2    ОРГ2-05859     0\n",
       "3    ОРГ1-00279     0\n",
       "4    ОРГ2-01613     0\n",
       "..          ...   ...\n",
       "257  ОРГ1-02893     0\n",
       "258  ОРГ2-01077     0\n",
       "259  ОРГ1-00469     0\n",
       "260  ОРГ1-02060     0\n",
       "261  ОРГ2-05042     0\n",
       "\n",
       "[262 rows x 2 columns]"
      ]
     },
     "execution_count": 28,
     "metadata": {},
     "output_type": "execute_result"
    }
   ],
   "source": [
    "df_test"
   ]
  },
  {
   "cell_type": "markdown",
   "metadata": {},
   "source": [
    "## Добавим фичи."
   ]
  },
  {
   "cell_type": "code",
   "execution_count": 29,
   "metadata": {},
   "outputs": [],
   "source": [
    "df_test = pd.merge(df_test, df_ed , on=\"id\", how='left').drop_duplicates(subset=\"id\")\n",
    "df_test = df_test.drop([\"Табельный номер руководителя\", \"Специальность\"],axis = 1)\n",
    "df_test[\"Вид образования\"] = df_test[\"Вид образования\"].astype('category')\n",
    "df_test[\"Вид образования\"] = df_test[\"Вид образования\"].cat.codes\n",
    "df_test = pd.merge(df_test, df_connection_time_res , on=\"id\", how='left')#.drop([\"event_type\"],axis =1)"
   ]
  },
  {
   "cell_type": "markdown",
   "metadata": {},
   "source": [
    "# Добавим суммарное время звоков"
   ]
  },
  {
   "cell_type": "code",
   "execution_count": 30,
   "metadata": {},
   "outputs": [],
   "source": [
    "df_test = pd.merge(df_test, CallTime , on=\"id\", how='left')"
   ]
  },
  {
   "cell_type": "markdown",
   "metadata": {},
   "source": [
    "# Удалим пустые значения"
   ]
  },
  {
   "cell_type": "code",
   "execution_count": 31,
   "metadata": {},
   "outputs": [],
   "source": [
    "df_test = df_test.fillna(0)"
   ]
  },
  {
   "cell_type": "markdown",
   "metadata": {},
   "source": [
    "## Предсказания"
   ]
  },
  {
   "cell_type": "code",
   "execution_count": 32,
   "metadata": {},
   "outputs": [],
   "source": [
    "df_test_pred = pd.read_csv(\"test.csv\")\n",
    "Xpred = df_test.drop([\"id\", \"type\"], axis = 1)\n",
    "preds = clf.predict(Xpred)\n",
    "df_test_pred['type']=preds"
   ]
  },
  {
   "cell_type": "code",
   "execution_count": 33,
   "metadata": {},
   "outputs": [],
   "source": [
    "df_test_pred.to_csv('rfnev.csv', index=False)"
   ]
  },
  {
   "cell_type": "code",
   "execution_count": null,
   "metadata": {},
   "outputs": [],
   "source": []
  }
 ],
 "metadata": {
  "colab": {
   "provenance": []
  },
  "kernelspec": {
   "display_name": "Python 3 (ipykernel)",
   "language": "python",
   "name": "python3"
  },
  "language_info": {
   "codemirror_mode": {
    "name": "ipython",
    "version": 3
   },
   "file_extension": ".py",
   "mimetype": "text/x-python",
   "name": "python",
   "nbconvert_exporter": "python",
   "pygments_lexer": "ipython3",
   "version": "3.8.10"
  }
 },
 "nbformat": 4,
 "nbformat_minor": 1
}
